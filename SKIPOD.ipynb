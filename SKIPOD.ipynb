﻿{
 "cells": [
  {
   "cell_type": "markdown",
   "metadata": {},
   "source": [
    "# VAR409 Parallel Implementation Analysis\n",
    "## Визуализация результатов тестирования параллельных версий"
   ]
  },
  {
   "cell_type": "code",
   "execution_count": null,
   "metadata": {},
   "outputs": [],
   "source": [
    "import matplotlib.pyplot as plt\n",
    "import numpy as np\n",
    "import pandas as pd\n",
    "import seaborn as sns\n",
    "from mpl_toolkits.mplot3d import Axes3D\n",
    "import json\n",
    "import subprocess\n",
    "import os\n",
    "\n",
    "# Настройка стиля\n",
    "plt.style.use('seaborn-v0_8')\n",
    "sns.set_palette(\"husl\")"
   ]
  },
  {
   "cell_type": "markdown",
   "metadata": {},
   "source": [
    "## 1. Загрузка и парсинг результатов"
   ]
  },
  {
   "cell_type": "code",
   "execution_count": null,
   "metadata": {},
   "outputs": [],
   "source": [
    "def parse_results():\n",
    "    \"\"\"Парсинг результатов тестирования\"\"\"\n",
    "    datasets = ['mini', 'small', 'medium', 'large', 'extralarge']\n",
    "    versions = ['original', 'parallel_for', 'tasks', 'optimized']\n",
    "    threads_list = [1, 2, 4, 8, 16, 32, 64]\n",
    "    \n",
    "    results = {}\n",
    "    \n",
    "    for dataset in datasets:\n",
    "        results[dataset] = {}\n",
    "        for version in versions:\n",
    "            filename = f'results/{dataset}_{version}.txt'\n",
    "            if os.path.exists(filename):\n",
    "                with open(filename, 'r') as f:\n",
    "                    content = f.read()\n",
    "                \n",
    "                times = []\n",
    "                for threads in threads_list:\n",
    "                    # Ищем время выполнения для каждого числа потоков\n",
    "                    pattern = f'Threads: {threads}.*?Time: ([0-9.]+) seconds'\n",
    "                    import re\n",
    "                    matches = re.findall(pattern, content, re.DOTALL)\n",
    "                    if matches:\n",
    "                        times.append(float(matches[0]))\n",
    "                    else:\n",
    "                        times.append(None)\n",
    "                \n",
    "                results[dataset][version] = times\n",
    "    \n",
    "    return results, datasets, versions, threads_list\n",
    "\n",
    "results, datasets, versions, threads_list = parse_results()\n",
    "print(\"Результаты загружены!\")"
   ]
  },
  {
   "cell_type": "markdown",
   "metadata": {},
   "source": [
    "## 2. Графики масштабируемости"
   ]
  },
  {
   "cell_type": "code",
   "execution_count": null,
   "metadata": {},
   "outputs": [],
   "source": [
    "fig, axes = plt.subplots(2, 3, figsize=(18, 10))\n",
    "axes = axes.flatten()\n",
    "\n",
    "for idx, dataset in enumerate(datasets):\n",
    "    ax = axes[idx]\n",
    "    \n",
    "    for version in versions:\n",
    "        times = results[dataset][version]\n",
    "        if any(times):\n",
    "            # Вычисляем ускорение\n",
    "            base_time = times[0]\n",
    "            if base_time and base_time > 0:\n",
    "                speedup = [base_time/t if t else 0 for t in times]\n",
    "                ax.plot(threads_list[:len(speedup)], speedup, \n",
    "                       marker='o', linewidth=2, label=version)\n",
    "    \n",
    "    ax.set_title(f'{dataset.upper()} Dataset', fontsize=14)\n",
    "    ax.set_xlabel('Number of Threads')\n",
    "    ax.set_ylabel('Speedup')\n",
    "    ax.grid(True, alpha=0.3)\n",
    "    ax.legend()\n",
    "    ax.set_xscale('log', base=2)\n",
    "\n",
    "# Убираем лишние subplots\n",
    "for idx in range(len(datasets), len(axes)):\n",
    "    axes[idx].set_visible(False)\n",
    "\n",
    "plt.tight_layout()\n",
    "plt.savefig('graphs/scalability_all.png', dpi=300, bbox_inches='tight')\n",
    "plt.show()"
   ]
  }
 ],
 "metadata": {
  "kernelspec": {
   "display_name": "Python 3",
   "language": "python",
   "name": "python3"
  },
  "language_info": {
   "name": "python",
   "version": "3.8.0"
  }
 },
 "nbformat": 4,
 "nbformat_minor": 4
}
